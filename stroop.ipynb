{
 "cells": [
  {
   "cell_type": "code",
   "execution_count": 1,
   "metadata": {},
   "outputs": [],
   "source": [
    "%load_ext autoreload\n",
    "%autoreload 2\n",
    "%matplotlib inline"
   ]
  },
  {
   "cell_type": "code",
   "execution_count": 2,
   "metadata": {},
   "outputs": [],
   "source": [
    "import psyneulink as pnl\n",
    "import numpy as np\n",
    "import matplotlib\n",
    "import matplotlib.pyplot as plt\n",
    "\n",
    "import sys; sys.path.append('./shape-naming/')\n",
    "import stroop_model"
   ]
  },
  {
   "cell_type": "markdown",
   "metadata": {},
   "source": [
    "## Plotting Utility"
   ]
  },
  {
   "cell_type": "code",
   "execution_count": 6,
   "metadata": {},
   "outputs": [],
   "source": [
    "DEFAULT_FIGURE_SIZE = (18, 10)\n",
    "DEFAULT_TITLES = ('72 epochs', '504 epochs', '2520 epochs')\n",
    "ORDERED_KEYS = ('control', 'conflict', 'congruent')\n",
    "\n",
    "def plot_by_condition(first_results, second_results=None, third_results=None,\n",
    "                     figsize=DEFAULT_FIGURE_SIZE, titles=DEFAULT_TITLES,\n",
    "                     ordered_keys=ORDERED_KEYS):\n",
    "    \n",
    "    fig, (ax1, ax2, ax3) = plt.subplots(1, 3, figsize=DEFAULT_FIGURE_SIZE)\n",
    "    fig.patch.set_facecolor('#DDDDDD')\n",
    "    fig.suptitle('Figure 12', fontsize=24)\n",
    "\n",
    "    plot_single_result_set(ax1, first_results, titles[0], ordered_keys)\n",
    "    if second_results is not None: \n",
    "        plot_single_result_set(ax2, second_results, titles[1], ordered_keys)\n",
    "    if third_results is not None:\n",
    "        plot_single_result_set(ax3, third_results, titles[2], ordered_keys)\n",
    "    \n",
    "    plt.show()\n",
    "    \n",
    "def plot_single_result_set(ax, results, title, ordered_keys):\n",
    "    shape_naming, color_naming, _ = results\n",
    "    shape_naming_avg = [np.average(shape_naming[key]) for key in ordered_keys]\n",
    "    shape_naming_std = [np.std(shape_naming[key]) for key in ordered_keys]\n",
    "    \n",
    "    color_naming_avg = [np.average(color_naming[key]) for key in ordered_keys]\n",
    "    color_naming_std = [np.std(color_naming[key]) for key in ordered_keys]\n",
    "    x_values = np.arange(3)\n",
    "                                  \n",
    "    ax.errorbar(x_values, shape_naming_avg, yerr=shape_naming_std, marker='o', \n",
    "                markersize=10, capsize=10, label='shape')\n",
    "    ax.errorbar(x_values, color_naming_avg, yerr=color_naming_std, marker='s', \n",
    "                markersize=10, capsize=10, label='color')\n",
    "\n",
    "    ax.set_xticks(x_values)\n",
    "    ax.set_xticklabels(ordered_keys)\n",
    "    ax.tick_params(length=15, labelsize=16)\n",
    "    ax.legend(fontsize=16)\n",
    "    ax.set_title(title, dict(fontsize=16))"
   ]
  },
  {
   "cell_type": "markdown",
   "metadata": {},
   "source": [
    "## Create a model and test it"
   ]
  },
  {
   "cell_type": "code",
   "execution_count": null,
   "metadata": {},
   "outputs": [],
   "source": [
    "stroop = stroop_model.StroopModel()"
   ]
  },
  {
   "cell_type": "code",
   "execution_count": 4,
   "metadata": {},
   "outputs": [],
   "source": [
    "train_output = stroop.train()"
   ]
  },
  {
   "cell_type": "code",
   "execution_count": 5,
   "metadata": {},
   "outputs": [],
   "source": [
    "test_output = stroop.test()"
   ]
  },
  {
   "cell_type": "code",
   "execution_count": null,
   "metadata": {},
   "outputs": [],
   "source": []
  }
 ],
 "metadata": {
  "kernelspec": {
   "display_name": "Python 3",
   "language": "python",
   "name": "python3"
  },
  "language_info": {
   "codemirror_mode": {
    "name": "ipython",
    "version": 3
   },
   "file_extension": ".py",
   "mimetype": "text/x-python",
   "name": "python",
   "nbconvert_exporter": "python",
   "pygments_lexer": "ipython3",
   "version": "3.6.3"
  }
 },
 "nbformat": 4,
 "nbformat_minor": 2
}
